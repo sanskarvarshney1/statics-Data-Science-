{
 "cells": [
  {
   "cell_type": "markdown",
   "id": "5da05434-03b9-4217-8cfc-91391ac6145c",
   "metadata": {},
   "source": [
    "Q1. What is Statistics?"
   ]
  },
  {
   "cell_type": "code",
   "execution_count": 2,
   "id": "d536a9f6-642b-4ac0-ba8c-3598e60a6646",
   "metadata": {},
   "outputs": [],
   "source": [
    "#Statsistics is brunch of science where we collect data, analyse the data and infer a concusion"
   ]
  },
  {
   "cell_type": "markdown",
   "id": "62297c96-b322-49dd-83d6-d2ae2bee0ef5",
   "metadata": {},
   "source": [
    "Q2. Define the different types of statistics and give an example of when each type might be used."
   ]
  },
  {
   "cell_type": "code",
   "execution_count": null,
   "id": "cdaedad6-297f-474a-a970-fd83bf6f3144",
   "metadata": {},
   "outputs": [],
   "source": [
    "\"\"\"Ans\n",
    "There are 2 types of Statistics\n",
    "A) Descriptive. B) Inferential\n",
    "\n",
    "A) Descriptive : Oraganisisng and summarising data\n",
    "i) Measure of Centeral Tendency\n",
    "mean, median, mode\n",
    "\n",
    "ii) Measure of Disperson\n",
    "standard daviation and variance\n",
    "\n",
    "iii) Distribution of Data\n",
    "PDF, PMF, Histogram, Box plot\n",
    "\n",
    "B). Inferential Stats : Using data which we have measured to get an conclusion form other related data\n",
    "Population : The main data\n",
    "Sample : The subset of the data\"\"\"\n",
    "\n"
   ]
  },
  {
   "cell_type": "markdown",
   "id": "4dfe49d9-deee-4ff0-b431-c5a9cddf6c80",
   "metadata": {},
   "source": [
    "Q3. What are the different types of data and how do they differ from each other? Provide an example of each type of data."
   ]
  },
  {
   "cell_type": "code",
   "execution_count": null,
   "id": "0599c433-a1cc-49f0-84fb-8711df41b1d2",
   "metadata": {},
   "outputs": [],
   "source": [
    "ANS:Data can be divied in to 2 main categories:\n",
    "A) Quantitative : Numbers\n",
    "i) Descrete: The whole number\n",
    "Age of the students, Number of computer at home\n",
    "\n",
    "ii) Continious: Decimal Numbers\n",
    "Weight, Height, Speed\n",
    "\n",
    "B) Qualitative: Categorical\n",
    "i) Nominal: Order does not matters, Cna't be comapired data with each other\n",
    "Favorit food, Gender, Blood Group\n",
    "\n",
    "ii) Ordinal: Oreders matters\n",
    "Designation, Students marks, Roll number\n"
   ]
  },
  {
   "cell_type": "markdown",
   "id": "c4cb9598-2556-43b7-b0e1-79c663d10e1c",
   "metadata": {},
   "source": [
    "Q4. Categorise the following datasets with respect to quantitative and qualitative data types:\n",
    "(i) Grading in exam: A+, A, B+, B, C+, C, D, E\n",
    "(ii) Colour of mangoes: yellow, green, orange, red\n",
    "(iii) Height data of a class: [178.9, 179, 179.5, 176, 177.2, 178.3, 175.8,...]\n",
    "(iv) Number of mangoes exported by a farm: [500, 600, 478, 672, ...]"
   ]
  },
  {
   "cell_type": "code",
   "execution_count": null,
   "id": "18916d63-e4b2-4a25-a256-8b0248c46402",
   "metadata": {},
   "outputs": [],
   "source": [
    "ANS:\n",
    "(i) Grading in exam: A+, A, B+, B, C+, C, D, E\n",
    "Ordinal Data Type (Ordinal Scale of Measurement)\n",
    "(ii) Colour of mangoes: yellow, green, orange, red\n",
    "Nominal data (Scale of measurement : Nominal)\n",
    "(iii) Height data of a class: [178.9, 179, 179.5, 176, 177.2, 178.3, 175.8,...]\n",
    "Ordinal (Scale of Measurement Ratio Scale as it can be measured, 0 true starting points, we can order the values, diffrence can be measured)\n",
    "(iv) Number of mangoes exported by a farm: [500, 600, 478, 672, ...]\n",
    "Ordinal (Scale of Measurement Ratio Scale as it can be measured, 0 true starting points, we can order the values, diffrence can be measured)"
   ]
  },
  {
   "cell_type": "markdown",
   "id": "b32db422-570d-4267-8cfe-6f4f8403f470",
   "metadata": {},
   "source": [
    "Q5. Explain the concept of levels of measurement and give an example of a variable for each level."
   ]
  },
  {
   "cell_type": "code",
   "execution_count": null,
   "id": "e28ccc07-45cd-41e1-ac54-2d53ce7ea5c6",
   "metadata": {},
   "outputs": [],
   "source": [
    "Levels of measurement, also known as scales of measurement, refer to the ways in which variables can be classified based on the nature of their values. There are four levels of measurement: nominal, ordinal, interval, and ratio."
   ]
  },
  {
   "cell_type": "code",
   "execution_count": null,
   "id": "3eecb1b1-b212-4c94-8c22-19deb4167491",
   "metadata": {},
   "outputs": [],
   "source": [
    "1.Nominal level of measurement:\n",
    "This is the lowest level of measurement where variables are classified into categories with no intrinsic order. The numbers assigned to the categories are arbitrary and do not reflect any quantitative value.\n",
    "Examples of nominal variables include gender, race, religion, and marital status. For instance, in a survey, respondents may be asked to choose their gender by selecting 1 for male or 2 for female."
   ]
  },
  {
   "cell_type": "code",
   "execution_count": null,
   "id": "c54c9d30-b561-4f2a-8da3-40171528002a",
   "metadata": {},
   "outputs": [],
   "source": [
    "2.Ordinal level of measurement:\n",
    "This level involves variables that can be ranked or ordered, but the differences between the values cannot be measured.\n",
    "Examples of ordinal variables include educational level, socioeconomic status, and customer satisfaction. For instance, a customer satisfaction survey may ask respondents to rate their level of satisfaction with a product or service as excellent, good, fair, or poor."
   ]
  },
  {
   "cell_type": "code",
   "execution_count": null,
   "id": "be31b9b0-3dc7-4ff4-897e-3a9de5c11b98",
   "metadata": {},
   "outputs": [],
   "source": [
    "3.Interval level of measurement:\n",
    "This level involves variables where the differences between the values are meaningful and can be measured, but there is no true zero point.\n",
    "Examples of interval variables include temperature measured in degrees Celsius or Fahrenheit and IQ scores. For instance, if the temperature outside is 20°C, it does not mean that there is no heat present."
   ]
  },
  {
   "cell_type": "code",
   "execution_count": null,
   "id": "7ce1d91f-43bf-4cfc-a505-b2e80539f85f",
   "metadata": {},
   "outputs": [],
   "source": [
    "4.Ratio level of measurement:\n",
    "This is the highest level of measurement where variables have a true zero point, and the differences between the values are meaningful and can be measured. Examples of ratio variables include weight, height, distance, and income. For instance, if someone weighs 50 kilograms, it means that they have no weight at all.\n",
    "An example of a ratio variable is the income earned by a person. If a person earns $0, it means that they have no income at all. Also students marks"
   ]
  },
  {
   "cell_type": "markdown",
   "id": "5e1e7f70-5106-4a17-95cf-cd1bf3c78689",
   "metadata": {},
   "source": [
    "Q6. Why is it important to understand the level of measurement when analyzing data? Provide an example to illustrate your answer."
   ]
  },
  {
   "cell_type": "code",
   "execution_count": null,
   "id": "4386ac40-8d01-42b6-bb57-e744ad129386",
   "metadata": {},
   "outputs": [],
   "source": [
    "ANS\n",
    "It is important to understand the level of measurement when analyzing data because the level of measurement determines the type of statistical analysis that can be applied to the data. Using the wrong statistical analysis based on the level of measurement can result in inaccurate conclusions and misleading results.\n",
    "For example:\n",
    "If we have a variable that is measured at the nominal level, such as political party affiliation (Republican, Democrat, Independent, etc.), we cannot compute a mean or standard deviation for this variable. Instead, we would use frequency counts or percentages to describe the distribution of the variable. If we were to apply a statistical analysis that assumes a continuous measurement scale, such as a t-test, the results would be invalid and misleading.\n",
    "\n",
    "On the other hand, if we have a variable that is measured at the ratio level, such as income, we can compute meaningful summary statistics such as mean, median, and standard deviation. However, if we were to apply a statistical analysis that assumes an ordinal or nominal level of measurement, such as a chi-square test, we would not be able to take full advantage of the information provided by the variable.\n",
    "\n",
    "Therefore, it is important to understand the level of measurement of the variables being analyzed to select appropriate statistical analyses and draw valid conclusions."
   ]
  },
  {
   "cell_type": "markdown",
   "id": "f458cea5-ff15-4f3c-832c-38fc224a3fd7",
   "metadata": {},
   "source": [
    "Q7. How nominal data type is different from ordinal data type."
   ]
  },
  {
   "cell_type": "code",
   "execution_count": null,
   "id": "a76601cc-3801-456c-9ce4-91fd5b689039",
   "metadata": {},
   "outputs": [],
   "source": [
    "ANS\n",
    "Nominal and ordinal data types are two levels of measurement used in statistics that are different from each other in several ways.\n",
    "\n",
    "Nominal data is a categorical data type where variables are classified into categories with no intrinsic order. The numbers assigned to the categories are arbitrary and do not reflect any quantitative value. Examples of nominal variables include gender, race, religion, and marital status. Nominal data can be analyzed using frequency counts or percentages, but we cannot compute a meaningful order or rank among the categories. In other words, we cannot say that one category is \"higher\" or \"lower\" than another.\n",
    "\n",
    "On the other hand, ordinal data is also a categorical data type, but the categories can be ranked or ordered. Ordinal data has an inherent order, but the differences between the values cannot be measured.\n",
    "\n",
    "Examples of ordinal variables include educational level, socioeconomic status, and customer satisfaction. We can say that one category is \"higher\" or \"lower\" than another based on the rank or order, but we cannot say how much higher or lower.\n",
    "\n",
    "To illustrate the difference between nominal and ordinal data types, let's consider the example of a survey that asks respondents to rate their level of agreement with a statement on a scale of 1 to 5, where 1 represents strongly disagree and 5 represents strongly agree. The responses can be analyzed as either nominal or ordinal data.\n",
    "\n"
   ]
  },
  {
   "cell_type": "markdown",
   "id": "2d16bd8c-bca5-49e0-b34c-0ba79b359d4c",
   "metadata": {},
   "source": [
    "Q8. Which type of plot can be used to display data in terms of range?"
   ]
  },
  {
   "cell_type": "code",
   "execution_count": null,
   "id": "10c2f4e0-a3a9-4506-8b84-01b474b8b03c",
   "metadata": {},
   "outputs": [],
   "source": [
    "A box plot, also known as a box and whisker plot, can be used to display data in terms of range. A box plot is a graphical representation of a dataset that displays the distribution of the data based on the five-number summary: the minimum value, the first quartile (Q1), the median, the third quartile (Q3), and the maximum value."
   ]
  },
  {
   "cell_type": "markdown",
   "id": "b0a679d5-a624-4232-8659-cf3736376b6f",
   "metadata": {},
   "source": [
    "Q9. Describe the difference between descriptive and inferential statistics. Give an example of each type of statistics and explain how they are used."
   ]
  },
  {
   "cell_type": "code",
   "execution_count": null,
   "id": "affa4d9f-2033-4889-8a02-46d83d3e2332",
   "metadata": {},
   "outputs": [],
   "source": [
    "Descriptive statistics and inferential statistics are two branches of statistics used to analyze data in different ways.\n",
    "Descriptive statistics :\n",
    "is concerned with summarizing and describing the characteristics of a dataset. It involves calculating summary statistics such as mean, median, mode, standard deviation, and range to describe the central tendency, variability, and range of the data. Descriptive statistics is useful for organizing and presenting data in a meaningful way, but it does not involve any generalization beyond the specific data being analyzed.\n",
    "\n",
    "An example of descriptive statistics would be calculating the mean and standard deviation of test scores for a group of students. These summary statistics would provide an overview of the average performance and the variability of the test scores in the group. Descriptive statistics can be used to identify patterns, trends, and outliers in the data, but it does not involve making any inferences beyond the specific data being analyzed.\n",
    "\n",
    "Inferential statistics:\n",
    "is on the other hand, is concerned with making generalizations and drawing conclusions about a population based on a sample of data. It involves using probability theory and statistical models to test hypotheses, estimate parameters, and make predictions about the population. Inferential statistics is used to make inferences beyond the specific data being analyzed and to draw conclusions about the larger population.\n",
    "\n",
    "An example of inferential statistics would be conducting a hypothesis test to compare the mean test scores of two different groups of students. By collecting a sample of test scores from each group and using inferential statistics, we can make a statement about whether the difference in mean test scores is statistically significant or due to chance. Inferential statistics can be used to test hypotheses, make predictions, and estimate parameters with a certain level of confidence.\n",
    "\n",
    "In summary, descriptive statistics is used to describe and summarize the characteristics of a dataset, while inferential statistics is used to make inferences and draw conclusions about a population based on a sample of data. Descriptive statistics is useful for organizing and presenting data, while inferential statistics is used for hypothesis testing, parameter estimation, and prediction making."
   ]
  },
  {
   "cell_type": "code",
   "execution_count": null,
   "id": "4f86ac76-c0c0-4d2f-9202-2ae6fb28496c",
   "metadata": {},
   "outputs": [],
   "source": [
    "Q10. What are some common measures of central tendency and variability used in statistics? Explain how each measure can be used to describe a dataset."
   ]
  },
  {
   "cell_type": "code",
   "execution_count": null,
   "id": "14b81c91-a3e9-4c74-8a1e-e0aef0d6bb51",
   "metadata": {},
   "outputs": [],
   "source": [
    "ANS\n",
    "Measures of central tendency and variability are used in statistics to describe the distribution of a dataset. They provide a summary of the location and spread of the data, respectively. Some common measures of central tendency and variability are:\n",
    "Measures of central tendency:\n",
    "Mean:\n",
    "The mean is the average value of the dataset. It is calculated by adding up all the values in the dataset and dividing by the number of values. The mean is used to describe the typical value or central location of the data. However, it can be sensitive to outliers in the data.\n",
    "\n",
    "Median:\n",
    "The median is the middle value of the dataset when it is ordered from smallest to largest. It is used to describe the central location of the data and is less sensitive to outliers than the mean.\n",
    "\n",
    "Mode:\n",
    "The mode is the most common value in the dataset. It is used to describe the peak or most frequent value in the data and can be used for categorical data. Measures of variability:\n",
    "\n",
    "Range:\n",
    "The range is the difference between the maximum and minimum values in the dataset. It is used to describe the spread of the data, but it can be sensitive to outliers. Standard deviation: The standard deviation is a measure of how much the values in the dataset vary from the mean. It is used to describe the spread of the data and is more robust to outliers than the range. It provides a measure of how much the data is dispersed around the mean.\n",
    "\n",
    "Interquartile range:\n",
    "The interquartile range (IQR) is the range of the middle 50% of the data when it is ordered from smallest to largest. It is calculated by subtracting the first quartile from the third quartile. It is used to describe the spread of the data and is less sensitive to outliers than the range"
   ]
  },
  {
   "cell_type": "code",
   "execution_count": null,
   "id": "ebfde842-1494-4dd6-b04d-e98fbf92ccdc",
   "metadata": {},
   "outputs": [],
   "source": []
  },
  {
   "cell_type": "code",
   "execution_count": null,
   "id": "733aebc1-1a8a-4847-ba62-ac5ee7128488",
   "metadata": {},
   "outputs": [],
   "source": []
  },
  {
   "cell_type": "code",
   "execution_count": null,
   "id": "1408d736-549c-42ef-bc7c-818405353541",
   "metadata": {},
   "outputs": [],
   "source": []
  }
 ],
 "metadata": {
  "kernelspec": {
   "display_name": "Python 3 (ipykernel)",
   "language": "python",
   "name": "python3"
  },
  "language_info": {
   "codemirror_mode": {
    "name": "ipython",
    "version": 3
   },
   "file_extension": ".py",
   "mimetype": "text/x-python",
   "name": "python",
   "nbconvert_exporter": "python",
   "pygments_lexer": "ipython3",
   "version": "3.10.8"
  }
 },
 "nbformat": 4,
 "nbformat_minor": 5
}
